{
 "cells": [
  {
   "cell_type": "markdown",
   "metadata": {},
   "source": []
  },
  {
   "cell_type": "markdown",
   "metadata": {},
   "source": [
    "# Let's get started with RunGPU"
   ]
  },
  {
   "cell_type": "markdown",
   "metadata": {},
   "source": [
    "Rungpu is simple to use. You can finetune your model in a few lines of code.  \n",
    "A few basics: \n",
    "\n",
    "1. Pick your dataset of your choice. \n",
    "2. Pick any Model from Huggingface. \n",
    "3. Build your own finetuning configuration. Or choose from one of our templates!\n",
    "\n",
    "We have sample code to help you get started, with popular models, including Mistral v0.2, Llama 3, Gemma, etc.\n",
    "\n",
    "Let's start with importing the libraries."
   ]
  },
  {
   "cell_type": "code",
   "execution_count": 1,
   "metadata": {
    "execution": {
     "iopub.execute_input": "2024-05-23T03:53:33.903714Z",
     "iopub.status.busy": "2024-05-23T03:53:33.903037Z",
     "iopub.status.idle": "2024-05-23T03:53:33.957839Z",
     "shell.execute_reply": "2024-05-23T03:53:33.957526Z"
    }
   },
   "outputs": [],
   "source": [
    "# Lets import the model first\n",
    "from rungpu import Finetune\n"
   ]
  },
  {
   "cell_type": "markdown",
   "metadata": {},
   "source": [
    "## Create a Client object for Authentication. \n"
   ]
  },
  {
   "cell_type": "code",
   "execution_count": 2,
   "metadata": {},
   "outputs": [],
   "source": [
    "# Import the Client class to get access to RunGPU services. \n",
    "from rungpu import Client\n",
    "# Enter your Unique RunGPU Client ID and Secret here. \n",
    "client_id = '<Your RunGPU Client ID>'\n",
    "client_secret = '<Your RunGPU Client Secret>'\n",
    "\n",
    "client = Client(client_id, client_secret)"
   ]
  },
  {
   "cell_type": "markdown",
   "metadata": {},
   "source": [
    "## Let's get started with creating your dataset. \n",
    "\n",
    "### Why? \n",
    "\n",
    "In this example, we will use a dataset to train the Chatbot Model to make sure it learns specific information about our use case. \n",
    "\n",
    "\n",
    "But lets start with a simpler question:\n",
    "\n",
    "#### What is a dataset and why do you need it? \n",
    "\n",
    "A dataset is simply a document or simply a corpus of text that holds the knowledge you would want to train your chatbot on. \n",
    "It could be anything under the sun, general or specific. Since most foundational models are trained on a lot of general knowledge, \n",
    "it would most likely be something specific. \n",
    "\n",
    "\n"
   ]
  },
  {
   "cell_type": "markdown",
   "metadata": {},
   "source": [
    "A typical dataset config would look like the following\n",
    "For example, for a file in aws S3, \n",
    "```\n",
    "{\n",
    "    \"config\": {\n",
    "        \"type\": \"s3\",\n",
    "        \"provider\": \"AWS\",\n",
    "        \"env_auth\": \"false\",\n",
    "        \"access_key_id\": <access_key_id for aws>,\n",
    "        \"secret_access_key\": <secret access key>,\n",
    "        \"region\": <aws region>,\n",
    "        \"src_file\": \"/rungpu-dev/test.txt\",\n",
    "        \"dest_file\": \"data.txt\"\n",
    "    }\n",
    "}\n",
    "```\n",
    "\n",
    "the `config` property is where you'll be entering all your config information for where your file will be coming from. \n",
    "\n",
    "\n"
   ]
  },
  {
   "cell_type": "code",
   "execution_count": 4,
   "metadata": {},
   "outputs": [],
   "source": [
    "aws_access_key_id = \"<Your AWS Access Key ID>\"\n",
    "aws_secret_access_key = \"<Your AWS Secret Access Key>\"\n",
    "aws_region=\"<Your AWS Region>\"\n",
    "\n",
    "\n",
    "dataset_config = {\n",
    "    \"config\": {\n",
    "        \"type\": \"s3\",\n",
    "        \"provider\": \"AWS\",\n",
    "        \"env_auth\": \"false\",\n",
    "        \"access_key_id\": aws_access_key_id,\n",
    "        \"secret_access_key\": aws_secret_access_key,\n",
    "        \"region\": aws_region,\n",
    "        \"src_file\": \"/rungpu-dev/test.txt\",\n",
    "\n",
    "    }\n",
    "}\n",
    "\n"
   ]
  },
  {
   "cell_type": "markdown",
   "metadata": {},
   "source": [
    "## Google Drive Option\n",
    "If you don't have access to a cloud provider for storage and have your dataset stored locally, you can get started by simply having your file in your google drive and having a shareable link pointing to that file. The config for that looks like this:\n",
    "```\n",
    "config = {'config':\n",
    "            {'type':'google_drive',\n",
    "             'src_file':<shareable_gdrive_link>\n",
    "             }\n",
    "         }\n",
    "```"
   ]
  },
  {
   "cell_type": "code",
   "execution_count": null,
   "metadata": {},
   "outputs": [],
   "source": [
    "\n",
    "# Enter your shareable google drive link here, to the file you want to get. \n",
    "gdrive_url= \"<shareable-drive-url>\"\n",
    "\n",
    "dataset_config = {'config':\n",
    "                 {'type':'google_drive',\n",
    "                  'src_file':gdrive_url}\n",
    "                  }"
   ]
  },
  {
   "cell_type": "code",
   "execution_count": 6,
   "metadata": {
    "execution": {
     "iopub.execute_input": "2024-05-23T03:53:33.959895Z",
     "iopub.status.busy": "2024-05-23T03:53:33.959767Z",
     "iopub.status.idle": "2024-05-23T03:53:45.266074Z",
     "shell.execute_reply": "2024-05-23T03:53:45.265306Z"
    }
   },
   "outputs": [],
   "source": [
    "import json\n",
    "from rungpu import Dataset\n",
    "\n",
    "dataset = Dataset(client=client,mode='train', config=dataset_config)\n",
    "\n",
    "# Pulling the Dataset from the cloud. \n",
    "dataset_response = dataset.create_dataset()\n"
   ]
  },
  {
   "cell_type": "code",
   "execution_count": 7,
   "metadata": {},
   "outputs": [
    {
     "data": {
      "text/plain": [
       "{'command': 'Create Dataset',\n",
       " 'created_at': '2024-09-09 11:15:03.896374',\n",
       " 'dataset_id': 'rungpu_dst_3d2ab14d-a03f-4a36-9813-16f83d0e4193',\n",
       " 'src_file': 'https://drive.google.com/file/d/1zj8v7Nxf2gZuScLs8hzcu-jSBYkOP-no/view?usp=sharing',\n",
       " 'data_source': 'google_drive'}"
      ]
     },
     "execution_count": 7,
     "metadata": {},
     "output_type": "execute_result"
    }
   ],
   "source": [
    "dataset_response"
   ]
  },
  {
   "cell_type": "markdown",
   "metadata": {},
   "source": [
    "# Your Dataset ID.\n",
    "\n",
    "Running the code cell above returns you a response which contains the details of the dataset you just created. \n",
    "\n",
    "The dataset you created is stored securely on our servers for the purposes of finetuning the model (it can be removed later.)\n",
    "\n",
    "This response object you get on running the `create_dataset()` function contains the dataset_id unique to the dataset you just created. The dataset id looks something like the following: \n",
    "\n",
    "`rungpu_dataset_<random_unique_id>`\n",
    "\n",
    "You can plug this id into your finetuning config as below for the `dataset_id` property"
   ]
  },
  {
   "cell_type": "code",
   "execution_count": 8,
   "metadata": {},
   "outputs": [
    {
     "data": {
      "text/plain": [
       "'rungpu_dst_3d2ab14d-a03f-4a36-9813-16f83d0e4193'"
      ]
     },
     "execution_count": 8,
     "metadata": {},
     "output_type": "execute_result"
    }
   ],
   "source": [
    "dataset_id = dataset_response['dataset_id']\n",
    "dataset_id"
   ]
  },
  {
   "cell_type": "markdown",
   "metadata": {},
   "source": [
    "# Let's Create your model and start Finetuning!\n",
    "\n",
    "Your finetuning job flow includes the creation of the model. So the finetuning config would include the config for your model. \n",
    "\n",
    "The finetuning config looks something like this: \n",
    "\n",
    "```\n",
    "    {\n",
    "    \"base_model\": <huggingface base model>,\n",
    "    \"quant\": 8,\n",
    "    \"num_steps\": 100,\n",
    "    \"dataset_id\": <rungpu dataset id will be added by the Finetune Object when you declare it.>,\n",
    "    \"strategy\": \"lora\",\n",
    "    \"checkpoint_steps\": 10,\n",
    "    \"training_size\": 1000,\n",
    "    \"peft_config\": {\n",
    "        \"lora\": {\n",
    "            \"r\": 16,\n",
    "            \"alpha\": 16,\n",
    "            \"target_modules\": [\n",
    "                \"q_proj\",\n",
    "                \"k_proj\",\n",
    "                \"v_proj\",\n",
    "                \"o_proj\",\n",
    "                \"gate_proj\",\n",
    "                \"up_proj\",\n",
    "                \"down_proj\",\n",
    "                \"lm_head\"\n",
    "            ],\n",
    "            \"bias\": \"none\",\n",
    "            \"lora_dropout\": 0.05\n",
    "        }\n",
    "    }\n",
    "}\n",
    "```\n"
   ]
  },
  {
   "cell_type": "code",
   "execution_count": 9,
   "metadata": {},
   "outputs": [],
   "source": [
    "# Here's your finetuning config. \n",
    "ft_config = {\n",
    "    \"base_model\": \"meta-llama/Llama-2-7b-hf\",\n",
    "    \"quant\": 8,\n",
    "    \"num_steps\": 10,\n",
    "    \"strategy\": \"lora\",\n",
    "    \"checkpoint_steps\": 1,\n",
    "    \"training_size\": 1000,\n",
    "    \"model_max_length\": 4096,\n",
    "    \"prompt_max_length\": 512,\n",
    "    \"gguf_flag\": True,\n",
    "    \"peft_config\": {\n",
    "        \"lora\": {\n",
    "            \"r\": 16,\n",
    "            \"alpha\": 16,\n",
    "            \"target_modules\": [\n",
    "                \"q_proj\",\n",
    "                \"k_proj\",\n",
    "                \"v_proj\",\n",
    "                \"o_proj\",\n",
    "                \"gate_proj\",\n",
    "                \"up_proj\",\n",
    "                \"down_proj\",\n",
    "                \"lm_head\"\n",
    "            ],\n",
    "            \"bias\": \"none\",\n",
    "            \"lora_dropout\": 0.05\n",
    "        }\n",
    "    }\n",
    "}"
   ]
  },
  {
   "cell_type": "code",
   "execution_count": 10,
   "metadata": {
    "execution": {
     "iopub.execute_input": "2024-05-23T03:53:45.299402Z",
     "iopub.status.busy": "2024-05-23T03:53:45.299080Z",
     "iopub.status.idle": "2024-05-23T03:53:48.509993Z",
     "shell.execute_reply": "2024-05-23T03:53:48.509167Z"
    }
   },
   "outputs": [
    {
     "data": {
      "text/plain": [
       "{'command': 'Finetune',\n",
       " 'status': 'IN_QUEUE',\n",
       " 'train_id': 'meta-llama-Llama-2-7b-hf-8-bit-f809e796-6e48-11ef-8ef3-b8ca3a5c98fc-rungpu_dst_3d2ab14d-a03f-4a36-9813-16f83d0e4193',\n",
       " 'base_model': 'meta-llama/Llama-2-7b-hf',\n",
       " 'quantization': 8,\n",
       " 'dataset_id': 'rungpu_dst_3d2ab14d-a03f-4a36-9813-16f83d0e4193',\n",
       " 'peft_strategy': 'lora',\n",
       " 'checkpoints': 1,\n",
       " 'num_steps': 10,\n",
       " 'training_size': 1000,\n",
       " 'peft_config': {'lora': {'r': 16,\n",
       "   'alpha': 16,\n",
       "   'target_modules': ['q_proj',\n",
       "    'k_proj',\n",
       "    'v_proj',\n",
       "    'o_proj',\n",
       "    'gate_proj',\n",
       "    'up_proj',\n",
       "    'down_proj',\n",
       "    'lm_head'],\n",
       "   'bias': 'none',\n",
       "   'lora_dropout': 0.05}}}"
      ]
     },
     "execution_count": 10,
     "metadata": {},
     "output_type": "execute_result"
    }
   ],
   "source": [
    "# Define the finetuning config\n",
    "import json\n",
    "\n",
    "# Creating the Finetune object, and plugging in the config we created, finetuning specific. \n",
    "finetune = Finetune(client,dataset_id=dataset_id,config=ft_config)\n",
    "\n",
    "#Calling the run_finetune() function to kick off the finetuning job. \n",
    "response = finetune.run_finetune()\n",
    "response\n"
   ]
  },
  {
   "cell_type": "code",
   "execution_count": null,
   "metadata": {},
   "outputs": [],
   "source": []
  },
  {
   "cell_type": "markdown",
   "metadata": {},
   "source": [
    "# The Finetune `run_id`\n",
    "\n",
    "Once you execute the `run_finetune()` function on the finetune object, you essentially kick off a finetuning object on the backend. \n",
    "the `run_finetune()` call returns a response object from the server, that contains a `run_id`, which is the unique identifier for this specific finetuning job run. \n",
    "\n",
    "You can use this run_id to retrieve the details on how the run job progressed, and other information about model configurations and finetuning strategies. This is put in place with several other functions we provide to check the finetune job details. \n",
    "\n",
    "\n",
    "The response of the `run_finetune()` command looks something like the following."
   ]
  },
  {
   "cell_type": "code",
   "execution_count": 11,
   "metadata": {
    "execution": {
     "iopub.execute_input": "2024-05-23T03:53:48.515180Z",
     "iopub.status.busy": "2024-05-23T03:53:48.514635Z",
     "iopub.status.idle": "2024-05-23T03:53:48.524482Z",
     "shell.execute_reply": "2024-05-23T03:53:48.524019Z"
    }
   },
   "outputs": [],
   "source": [
    "response\n",
    "train_id = response['train_id']"
   ]
  },
  {
   "cell_type": "markdown",
   "metadata": {},
   "source": [
    "### Let's see what our training id looks like\n",
    "\n",
    "The training id is a combination of the model_id and the training dataset id that it was trained on. This gives your training job/ finetuned model a unique identity. "
   ]
  },
  {
   "cell_type": "code",
   "execution_count": 12,
   "metadata": {},
   "outputs": [
    {
     "data": {
      "text/plain": [
       "'meta-llama-Llama-2-7b-hf-8-bit-f809e796-6e48-11ef-8ef3-b8ca3a5c98fc-rungpu_dst_3d2ab14d-a03f-4a36-9813-16f83d0e4193'"
      ]
     },
     "execution_count": 12,
     "metadata": {},
     "output_type": "execute_result"
    }
   ],
   "source": [
    "train_id"
   ]
  },
  {
   "cell_type": "markdown",
   "metadata": {},
   "source": [
    "# Check the status of your run. \n",
    "\n",
    "Use the finetune object to call the `get_status` function, which will help us get run status of current or past finetuning run jobs based on their `run_id`"
   ]
  },
  {
   "cell_type": "code",
   "execution_count": 17,
   "metadata": {
    "execution": {
     "iopub.execute_input": "2024-05-23T03:53:48.532938Z",
     "iopub.status.busy": "2024-05-23T03:53:48.532760Z",
     "iopub.status.idle": "2024-05-23T03:53:51.439590Z",
     "shell.execute_reply": "2024-05-23T03:53:51.438552Z"
    }
   },
   "outputs": [
    {
     "data": {
      "text/plain": [
       "{'Train_Id': 'meta-llama-Llama-2-7b-hf-8-bit-f809e796-6e48-11ef-8ef3-b8ca3a5c98fc-rungpu_dst_3d2ab14d-a03f-4a36-9813-16f83d0e4193',\n",
       " 'time_elapsed': '1.9725259833333333',\n",
       " 'train_status': {'command': 'Finetune',\n",
       "  'train_id': 'meta-llama-Llama-2-7b-hf-8-bit-f809e796-6e48-11ef-8ef3-b8ca3a5c98fc-rungpu_dst_3d2ab14d-a03f-4a36-9813-16f83d0e4193',\n",
       "  'status': 'RUNNING',\n",
       "  'phase': 'MERGING_MODEL',\n",
       "  'client_id': 'n6p7iWSrknJqkLIwX0PGi',\n",
       "  'model_id': 'meta-llama-Llama-2-7b-hf-8-bit-f809e796-6e48-11ef-8ef3-b8ca3a5c98fc',\n",
       "  'base_model': 'meta-llama/Llama-2-7b-hf',\n",
       "  'dataset_id': 'rungpu_dst_3d2ab14d-a03f-4a36-9813-16f83d0e4193',\n",
       "  'run_start': '2024-09-09 11:16:06.811642',\n",
       "  'run_end': None,\n",
       "  'export_start': None,\n",
       "  'export_end': None,\n",
       "  'error': 'Job Still Running',\n",
       "  'quantization': 8,\n",
       "  'strategy': 'lora',\n",
       "  'checkpoint_steps': 1,\n",
       "  'training_steps': 10,\n",
       "  'training_split': 1000,\n",
       "  'peft_config': {'lora': {'r': 16,\n",
       "    'alpha': 16,\n",
       "    'target_modules': ['q_proj',\n",
       "     'k_proj',\n",
       "     'v_proj',\n",
       "     'o_proj',\n",
       "     'gate_proj',\n",
       "     'up_proj',\n",
       "     'down_proj',\n",
       "     'lm_head'],\n",
       "    'bias': 'none',\n",
       "    'lora_dropout': 0.05}},\n",
       "  'run_history': [{'train_runtime': 82.8707,\n",
       "    'train_samples_per_second': 0.965,\n",
       "    'train_steps_per_second': 0.121,\n",
       "    'total_flos': 1633788450570240.0,\n",
       "    'train_loss': 2.677678680419922,\n",
       "    'epoch': 0.04602991944764097,\n",
       "    'step': 10}]}}"
      ]
     },
     "execution_count": 17,
     "metadata": {},
     "output_type": "execute_result"
    }
   ],
   "source": [
    "from rungpu import TrainStatus, Client\n",
    "client = Client(client_id=client_id, client_secret=client_secret)\n",
    "train_status = TrainStatus(client,train_id)\n",
    "status = train_status.get_status()\n",
    "status"
   ]
  },
  {
   "cell_type": "markdown",
   "metadata": {},
   "source": [
    "# The Progress Funciton\n",
    "\n",
    "The progress function run on the `Status` Object gives you the training output as the training happens. "
   ]
  },
  {
   "cell_type": "markdown",
   "metadata": {},
   "source": []
  },
  {
   "cell_type": "code",
   "execution_count": 14,
   "metadata": {},
   "outputs": [
    {
     "name": "stdout",
     "output_type": "stream",
     "text": [
      "Your Job is still in the queue\n",
      "will retry in 30 seconds...\n",
      "eport_to all` to get the same behavior as now. You should start updating your code and make this info disappear :-).\n",
      "max_steps is given, it will override any value given in num_train_epochs\n",
      "The following columns in the training set don't have a corresponding argument in `PeftModelForCausalLM.forward` and have been ignored: text. If text are not expected by `PeftModelForCausalLM.forward`,  you can safely ignore this message.\n",
      "***** Running training *****\n",
      "  Num examples = 1,738\n",
      "  Num Epochs = 1\n",
      "  Instantaneous batch size per device = 2\n",
      "  Total train batch size (w. parallel, distributed & accumulation) = 8\n",
      "  Gradient Accumulation steps = 4\n",
      "  Total optimization steps = 10\n",
      "  Number of trainable parameters = 40,554,512\n",
      "Saving model checkpoint to /home/rungpu/models//meta-llama-Llama-2-7b-hf/8-bit/meta-llama-Llama-2-7b-hf-8-bit-f809e796-6e48-11ef-8ef3-b8ca3a5c98fc-rungpu_dst_3d2ab14d-a03f-4a36-9813-16f83d0e4193/checkpoint-1\n",
      "Saving model checkpoint to /home/rungpu/models//meta-llama-Llama-2-7b-hf/8-bit/meta-llama-Llama-2-7b-hf-8-bit-f809e796-6e48-11ef-8ef3-b8ca3a5c98fc-rungpu_dst_3d2ab14d-a03f-4a36-9813-16f83d0e4193/checkpoint-2\n",
      "Saving model checkpoint to /home/rungpu/models//meta-llama-Llama-2-7b-hf/8-bit/meta-llama-Llama-2-7b-hf-8-bit-f809e796-6e48-11ef-8ef3-b8ca3a5c98fc-rungpu_dst_3d2ab14d-a03f-4a36-9813-16f83d0e4193/checkpoint-3\n",
      "Saving model checkpoint to /home/rungpu/models//meta-llama-Llama-2-7b-hf/8-bit/meta-llama-Llama-2-7b-hf-8-bit-f809e796-6e48-11ef-8ef3-b8ca3a5c98fc-rungpu_dst_3d2ab14d-a03f-4a36-9813-16f83d0e4193/checkpoint-4\n",
      "Saving model checkpoint to /home/rungpu/models//meta-llama-Llama-2-7b-hf/8-bit/meta-llama-Llama-2-7b-hf-8-bit-f809e796-6e48-11ef-8ef3-b8ca3a5c98fc-rungpu_dst_3d2ab14d-a03f-4a36-9813-16f83d0e4193/checkpoint-5\n",
      "Saving model checkpoint to /home/rungpu/models//meta-llama-Llama-2-7b-hf/8-bit/meta-llama-Llama-2-7b-hf-8-bit-f809e796-6e48-11ef-8ef3-b8ca3a5c98fc-rungpu_dst_3d2ab14d-a03f-4a36-9813-16f83d0e4193/checkpoint-6\n",
      "Saving model checkpoint to /home/rungpu/models//meta-llama-Llama-2-7b-hf/8-bit/meta-llama-Llama-2-7b-hf-8-bit-f809e796-6e48-11ef-8ef3-b8ca3a5c98fc-rungpu_dst_3d2ab14d-a03f-4a36-9813-16f83d0e4193/checkpoint-7\n",
      "Saving model checkpoint to /home/rungpu/models//meta-llama-Llama-2-7b-hf/8-bit/meta-llama-Llama-2-7b-hf-8-bit-f809e796-6e48-11ef-8ef3-b8ca3a5c98fc-rungpu_dst_3d2ab14d-a03f-4a36-9813-16f83d0e4193/checkpoint-8\n",
      "Saving model checkpoint to /home/rungpu/models//meta-llama-Llama-2-7b-hf/8-bit/meta-llama-Llama-2-7b-hf-8-bit-f809e796-6e48-11ef-8ef3-b8ca3a5c98fc-rungpu_dst_3d2ab14d-a03f-4a36-9813-16f83d0e4193/checkpoint-9\n",
      "Saving model checkpoint to /home/rungpu/models//meta-llama-Llama-2-7b-hf/8-bit/meta-llama-Llama-2-7b-hf-8-bit-f809e796-6e48-11ef-8ef3-b8ca3a5c98fc-rungpu_dst_3d2ab14d-a03f-4a36-9813-16f83d0e4193/checkpoint-10\n",
      "Training Completed.\n"
     ]
    }
   ],
   "source": [
    "train_status.progress()\n",
    "\n"
   ]
  },
  {
   "cell_type": "markdown",
   "metadata": {},
   "source": []
  },
  {
   "cell_type": "markdown",
   "metadata": {},
   "source": [
    "## Get Download Links to your Model\n",
    "\n",
    "Use the same status object as above to generate download links to your models. "
   ]
  },
  {
   "cell_type": "code",
   "execution_count": 20,
   "metadata": {},
   "outputs": [
    {
     "data": {
      "text/plain": [
       "{'message': \"Here's your download link\",\n",
       " 'model_files': {'f3d03eda-e1e3-4be3-bf56-ad50c86eb78b': {'file_name': 'config.json',\n",
       "   'file_url': 'http://rungpu1-download.rungpu.ai/download/llm/meta-llama-Llama-2-7b-hf-8-bit-f809e796-6e48-11ef-8ef3-b8ca3a5c98fc-rungpu_dst_3d2ab14d-a03f-4a36-9813-16f83d0e4193/f3d03eda-e1e3-4be3-bf56-ad50c86eb78b'},\n",
       "  '74e93ec8-ad6b-4dd7-b2d8-9df65eb9a84c': {'file_name': 'added_tokens.json',\n",
       "   'file_url': 'http://rungpu1-download.rungpu.ai/download/llm/meta-llama-Llama-2-7b-hf-8-bit-f809e796-6e48-11ef-8ef3-b8ca3a5c98fc-rungpu_dst_3d2ab14d-a03f-4a36-9813-16f83d0e4193/74e93ec8-ad6b-4dd7-b2d8-9df65eb9a84c'},\n",
       "  'a8078169-3237-484c-b4ea-b402a5028ea2': {'file_name': 'model.gguf',\n",
       "   'file_url': 'http://rungpu1-download.rungpu.ai/download/llm/meta-llama-Llama-2-7b-hf-8-bit-f809e796-6e48-11ef-8ef3-b8ca3a5c98fc-rungpu_dst_3d2ab14d-a03f-4a36-9813-16f83d0e4193/a8078169-3237-484c-b4ea-b402a5028ea2'},\n",
       "  '88a1f4c2-a81b-463f-aa53-f079d2024d08': {'file_name': 'model.safetensors.index.json',\n",
       "   'file_url': 'http://rungpu1-download.rungpu.ai/download/llm/meta-llama-Llama-2-7b-hf-8-bit-f809e796-6e48-11ef-8ef3-b8ca3a5c98fc-rungpu_dst_3d2ab14d-a03f-4a36-9813-16f83d0e4193/88a1f4c2-a81b-463f-aa53-f079d2024d08'},\n",
       "  '6c084479-7d8e-45a8-b5b7-827da8fcf9a9': {'file_name': 'model-00002-of-00003.safetensors',\n",
       "   'file_url': 'http://rungpu1-download.rungpu.ai/download/llm/meta-llama-Llama-2-7b-hf-8-bit-f809e796-6e48-11ef-8ef3-b8ca3a5c98fc-rungpu_dst_3d2ab14d-a03f-4a36-9813-16f83d0e4193/6c084479-7d8e-45a8-b5b7-827da8fcf9a9'},\n",
       "  'fc9a6bea-91a4-4f7d-ab98-3bbe6aa24acf': {'file_name': 'tokenizer.model',\n",
       "   'file_url': 'http://rungpu1-download.rungpu.ai/download/llm/meta-llama-Llama-2-7b-hf-8-bit-f809e796-6e48-11ef-8ef3-b8ca3a5c98fc-rungpu_dst_3d2ab14d-a03f-4a36-9813-16f83d0e4193/fc9a6bea-91a4-4f7d-ab98-3bbe6aa24acf'},\n",
       "  '7aa22ef6-cc2f-4461-bcd7-752f5a40d0db': {'file_name': 'model-00001-of-00003.safetensors',\n",
       "   'file_url': 'http://rungpu1-download.rungpu.ai/download/llm/meta-llama-Llama-2-7b-hf-8-bit-f809e796-6e48-11ef-8ef3-b8ca3a5c98fc-rungpu_dst_3d2ab14d-a03f-4a36-9813-16f83d0e4193/7aa22ef6-cc2f-4461-bcd7-752f5a40d0db'},\n",
       "  'cd60c25f-bf72-4ca0-9b15-7c0d897261b0': {'file_name': 'model-00003-of-00003.safetensors',\n",
       "   'file_url': 'http://rungpu1-download.rungpu.ai/download/llm/meta-llama-Llama-2-7b-hf-8-bit-f809e796-6e48-11ef-8ef3-b8ca3a5c98fc-rungpu_dst_3d2ab14d-a03f-4a36-9813-16f83d0e4193/cd60c25f-bf72-4ca0-9b15-7c0d897261b0'},\n",
       "  '2f5c0f9f-10fa-405a-977e-f2b181e2e337': {'file_name': 'special_tokens_map.json',\n",
       "   'file_url': 'http://rungpu1-download.rungpu.ai/download/llm/meta-llama-Llama-2-7b-hf-8-bit-f809e796-6e48-11ef-8ef3-b8ca3a5c98fc-rungpu_dst_3d2ab14d-a03f-4a36-9813-16f83d0e4193/2f5c0f9f-10fa-405a-977e-f2b181e2e337'},\n",
       "  'c86e741a-2c81-4aef-9de7-f73de40d0f6f': {'file_name': 'tokenizer_config.json',\n",
       "   'file_url': 'http://rungpu1-download.rungpu.ai/download/llm/meta-llama-Llama-2-7b-hf-8-bit-f809e796-6e48-11ef-8ef3-b8ca3a5c98fc-rungpu_dst_3d2ab14d-a03f-4a36-9813-16f83d0e4193/c86e741a-2c81-4aef-9de7-f73de40d0f6f'},\n",
       "  '5e309f69-266a-4e7a-8dcf-968efe3c9402': {'file_name': 'tokenizer.json',\n",
       "   'file_url': 'http://rungpu1-download.rungpu.ai/download/llm/meta-llama-Llama-2-7b-hf-8-bit-f809e796-6e48-11ef-8ef3-b8ca3a5c98fc-rungpu_dst_3d2ab14d-a03f-4a36-9813-16f83d0e4193/5e309f69-266a-4e7a-8dcf-968efe3c9402'},\n",
       "  '9cfbb6f4-cffa-421a-89e3-822645bff5da': {'file_name': 'generation_config.json',\n",
       "   'file_url': 'http://rungpu1-download.rungpu.ai/download/llm/meta-llama-Llama-2-7b-hf-8-bit-f809e796-6e48-11ef-8ef3-b8ca3a5c98fc-rungpu_dst_3d2ab14d-a03f-4a36-9813-16f83d0e4193/9cfbb6f4-cffa-421a-89e3-822645bff5da'}},\n",
       " 'tokenizer_files': {'60439970-eccb-4f59-868c-d0f13fe23bf8': {'file_name': 'added_tokens.json',\n",
       "   'file_url': 'http://rungpu1-download.rungpu.ai/download/tokenizer/meta-llama-Llama-2-7b-hf-8-bit-f809e796-6e48-11ef-8ef3-b8ca3a5c98fc-rungpu_dst_3d2ab14d-a03f-4a36-9813-16f83d0e4193/60439970-eccb-4f59-868c-d0f13fe23bf8'},\n",
       "  '3e0b719f-c7e2-4241-afaf-f8b3c4648887': {'file_name': 'tokenizer.model',\n",
       "   'file_url': 'http://rungpu1-download.rungpu.ai/download/tokenizer/meta-llama-Llama-2-7b-hf-8-bit-f809e796-6e48-11ef-8ef3-b8ca3a5c98fc-rungpu_dst_3d2ab14d-a03f-4a36-9813-16f83d0e4193/3e0b719f-c7e2-4241-afaf-f8b3c4648887'},\n",
       "  '071f978d-58a0-4285-9b61-039f1af4284b': {'file_name': 'special_tokens_map.json',\n",
       "   'file_url': 'http://rungpu1-download.rungpu.ai/download/tokenizer/meta-llama-Llama-2-7b-hf-8-bit-f809e796-6e48-11ef-8ef3-b8ca3a5c98fc-rungpu_dst_3d2ab14d-a03f-4a36-9813-16f83d0e4193/071f978d-58a0-4285-9b61-039f1af4284b'},\n",
       "  '02f1e6cc-d083-49e1-8ad6-e6f14ad0317f': {'file_name': 'tokenizer_config.json',\n",
       "   'file_url': 'http://rungpu1-download.rungpu.ai/download/tokenizer/meta-llama-Llama-2-7b-hf-8-bit-f809e796-6e48-11ef-8ef3-b8ca3a5c98fc-rungpu_dst_3d2ab14d-a03f-4a36-9813-16f83d0e4193/02f1e6cc-d083-49e1-8ad6-e6f14ad0317f'},\n",
       "  '56bf3300-9ded-4b29-95d0-ec038828e6f0': {'file_name': 'tokenizer.json',\n",
       "   'file_url': 'http://rungpu1-download.rungpu.ai/download/tokenizer/meta-llama-Llama-2-7b-hf-8-bit-f809e796-6e48-11ef-8ef3-b8ca3a5c98fc-rungpu_dst_3d2ab14d-a03f-4a36-9813-16f83d0e4193/56bf3300-9ded-4b29-95d0-ec038828e6f0'}}}"
      ]
     },
     "execution_count": 20,
     "metadata": {},
     "output_type": "execute_result"
    }
   ],
   "source": [
    "train_status.downloadlinks()"
   ]
  },
  {
   "cell_type": "code",
   "execution_count": null,
   "metadata": {},
   "outputs": [],
   "source": []
  }
 ],
 "metadata": {
  "kernelspec": {
   "display_name": "Python 3",
   "language": "python",
   "name": "python3"
  },
  "language_info": {
   "codemirror_mode": {
    "name": "ipython",
    "version": 3
   },
   "file_extension": ".py",
   "mimetype": "text/x-python",
   "name": "python",
   "nbconvert_exporter": "python",
   "pygments_lexer": "ipython3",
   "version": "3.10.14"
  }
 },
 "nbformat": 4,
 "nbformat_minor": 2
}
