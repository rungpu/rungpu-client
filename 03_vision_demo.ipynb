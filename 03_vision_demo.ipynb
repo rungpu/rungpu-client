{
 "cells": [
  {
   "cell_type": "markdown",
   "metadata": {},
   "source": [
    "# Welcome to RunGPU Vision\n",
    "\n",
    "This is a notebook to exclusively demonstrate the image model training capabilities that the Rungpu library offers. It's simple to use, has a plug-and-play interface. \n",
    "\n",
    "Image models can be used for several practices,but in this case we would be using Image models for training them to classify images \n"
   ]
  },
  {
   "cell_type": "code",
   "execution_count": 40,
   "metadata": {},
   "outputs": [],
   "source": [
    "from rungpu_vision import Model, Client\n",
    "from configparser import ConfigParser"
   ]
  },
  {
   "cell_type": "markdown",
   "metadata": {},
   "source": [
    "### Enter your Rungpu Client_id and Client_Secret"
   ]
  },
  {
   "cell_type": "code",
   "execution_count": 41,
   "metadata": {},
   "outputs": [],
   "source": [
    "config = ConfigParser()\n",
    "config.read('system.ini')\n",
    "\n",
    "client_id = config.get('rungpu_client','client_id')\n",
    "client_secret = config.get('rungpu_client','client_secret')\n"
   ]
  },
  {
   "cell_type": "markdown",
   "metadata": {},
   "source": [
    "### Define the model training configuration"
   ]
  },
  {
   "cell_type": "code",
   "execution_count": 42,
   "metadata": {},
   "outputs": [],
   "source": [
    "# Define a Config\n",
    "\n",
    "config = {\n",
    "    \"model\": \"<name of the pretrained model you want to use>\",\n",
    "    # \"dataset\": \"<path-for-the-dataset>\"\n",
    "    \"n_classes\": \"<Number of classes\",\n",
    "    \"optimizer\" : \"<optimizer-for-training>\",\n",
    "    \"learning_rate\" : \"<learning rate used during training>\",\n",
    "    \"momentum\": \"<momentum used during training>\",\n",
    "    \"metrics\" : \"<metrics for training>\",\n",
    "    \"epochs\": \"<number of epochs you want to train for>\",\n",
    "    \"batch_size\": \"<int batch size for training>\",\n",
    "    \"layers\": [\n",
    "    # Stack your layers up in this list in the following format\n",
    "        #(layer_name: <name_of_the_layer, layer_type: <CONV2D | RELU | FC>, dim:(20,20,..)),\n",
    "        #(layer_name: <name_of_the_layer, layer_type: <CONV2D | RELU | FC>, dim:(20,20,..))\n",
    "    ]\n",
    "        \n",
    "\n",
    "}"
   ]
  },
  {
   "cell_type": "code",
   "execution_count": 43,
   "metadata": {},
   "outputs": [],
   "source": [
    "config = {\n",
    "        \n",
    "        \"model\": \"resnet50\",\n",
    "        \"optimizer\": \"SGD\",\n",
    "        \"n_classes\": 6,\n",
    "        \"learning_rate\": 0.001,\n",
    "        \"labels\":  {\"cardboard\": 0, \"glass\": 1,\"metal\": 2, \"paper\": 3,\"plastic\": 4, \"trash\": 5},\n",
    "        \"dataset\": \"https://drive.google.com/drive/folders/1Pkjm7kHz-FYw7iHdnh74CLJjLzk4KWug?usp=sharing\",\n",
    "        \"momentum\": 0.9,\n",
    "        \"metrics\": ['accuracy'],\n",
    "        \"loss\": \"sparse_categorical_entropy\",\n",
    "        \"epochs\": 10, \n",
    "        \"layers\": [('lin1',\"FC\",(2048,1080)), ('sig1',\"SIG\"),('lin2',\"FC\",(1080,6)),('relu1',\"RELU\")], \n",
    "        \"batch_size\": 16\n",
    "}"
   ]
  },
  {
   "cell_type": "markdown",
   "metadata": {},
   "source": [
    "## Create the Client Object for Authentication"
   ]
  },
  {
   "cell_type": "code",
   "execution_count": 44,
   "metadata": {},
   "outputs": [],
   "source": [
    "client = Client(client_id, client_secret)"
   ]
  },
  {
   "cell_type": "markdown",
   "metadata": {},
   "source": [
    "# Create the Model"
   ]
  },
  {
   "cell_type": "code",
   "execution_count": 45,
   "metadata": {},
   "outputs": [],
   "source": [
    "model = Model(client=client,config=config)\n"
   ]
  },
  {
   "cell_type": "markdown",
   "metadata": {},
   "source": [
    "## Run the Model "
   ]
  },
  {
   "cell_type": "code",
   "execution_count": 46,
   "metadata": {},
   "outputs": [],
   "source": [
    "model = model.train_model()"
   ]
  },
  {
   "cell_type": "code",
   "execution_count": 47,
   "metadata": {},
   "outputs": [
    {
     "data": {
      "text/plain": [
       "'resnet50-b0b74b75-3a54-4695-9ade-92544b7fed0f'"
      ]
     },
     "execution_count": 47,
     "metadata": {},
     "output_type": "execute_result"
    }
   ],
   "source": [
    "# Get your model id\n",
    "\n",
    "model_id = model['train_id']\n",
    "model_id"
   ]
  },
  {
   "cell_type": "markdown",
   "metadata": {},
   "source": [
    "## Let's check the status of your running Job"
   ]
  },
  {
   "cell_type": "code",
   "execution_count": 48,
   "metadata": {},
   "outputs": [],
   "source": [
    "from rungpu_vision import VisionStatus\n",
    "\n",
    "status = VisionStatus(client, model_id)\n"
   ]
  },
  {
   "cell_type": "code",
   "execution_count": 52,
   "metadata": {},
   "outputs": [
    {
     "data": {
      "text/plain": [
       "{'message': 'Service Unavailable'}"
      ]
     },
     "execution_count": 52,
     "metadata": {},
     "output_type": "execute_result"
    }
   ],
   "source": [
    "status.get_status()"
   ]
  },
  {
   "cell_type": "code",
   "execution_count": null,
   "metadata": {},
   "outputs": [],
   "source": []
  }
 ],
 "metadata": {
  "kernelspec": {
   "display_name": ".venv",
   "language": "python",
   "name": "python3"
  },
  "language_info": {
   "codemirror_mode": {
    "name": "ipython",
    "version": 3
   },
   "file_extension": ".py",
   "mimetype": "text/x-python",
   "name": "python",
   "nbconvert_exporter": "python",
   "pygments_lexer": "ipython3",
   "version": "3.10.14"
  }
 },
 "nbformat": 4,
 "nbformat_minor": 2
}
