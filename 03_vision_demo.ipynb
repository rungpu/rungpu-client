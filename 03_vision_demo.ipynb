{
 "cells": [
  {
   "cell_type": "markdown",
   "metadata": {},
   "source": [
    "# Welcome to RunGPU Vision\n",
    "\n",
    "This is a notebook to exclusively demonstrate the image model training capabilities that the Rungpu library offers. It's simple to use, has a plug-and-play interface. \n",
    "\n",
    "Image models can be used for several practices,but in this case we would be using Image models for training them to classify images \n"
   ]
  },
  {
   "cell_type": "code",
   "execution_count": 1,
   "metadata": {},
   "outputs": [],
   "source": [
    "from rungpu_vision import Model, Client, VisionDataset\n",
    "from configparser import ConfigParser"
   ]
  },
  {
   "cell_type": "markdown",
   "metadata": {},
   "source": [
    "### Enter your Rungpu Client_id and Client_Secret"
   ]
  },
  {
   "cell_type": "code",
   "execution_count": 2,
   "metadata": {},
   "outputs": [],
   "source": [
    "config = ConfigParser()\n",
    "config.read('system.ini')\n",
    "\n",
    "client_id = config.get('rungpu_client','client_id')\n",
    "client_secret = config.get('rungpu_client','client_secret')\n"
   ]
  },
  {
   "cell_type": "markdown",
   "metadata": {},
   "source": [
    "## Create the Client Object for Authentication"
   ]
  },
  {
   "cell_type": "code",
   "execution_count": 3,
   "metadata": {},
   "outputs": [],
   "source": [
    "client = Client(client_id, client_secret)"
   ]
  },
  {
   "cell_type": "code",
   "execution_count": 4,
   "metadata": {},
   "outputs": [],
   "source": [
    "# Define a Dataset\n",
    "dataset_config =  {\"src_type\": \"kaggle\", \"src_id\": \"asdasdasasdas/garbage-classification\"}\n",
    "dataset = VisionDataset(client,dataset_config)\n",
    "\n"
   ]
  },
  {
   "cell_type": "markdown",
   "metadata": {},
   "source": [
    "#### Create your Image dataset using the `create_dataset()` function"
   ]
  },
  {
   "cell_type": "code",
   "execution_count": 5,
   "metadata": {},
   "outputs": [
    {
     "name": "stdout",
     "output_type": "stream",
     "text": [
      "imgdat_e90996f3-3b17-4a90-8ea6-2ed49a548917\n"
     ]
    }
   ],
   "source": [
    "imgdat = dataset.create_dataset()\n",
    "dataset_id = imgdat['dataset_id']\n",
    "print(dataset_id)"
   ]
  },
  {
   "cell_type": "markdown",
   "metadata": {},
   "source": [
    "#### Image Dataset Status\n",
    "\n",
    "Since these are image model, its a safe bet to keep checking the status of the image dataset ingestion into the RunGPU Platform since some image datasets might take time to download. \n",
    "\n",
    "Also, The `check_data` gives you a `dir_map` feature, which let's you narrow out which specific directory has the right image-label mappings you would want to use for your classification model, and you can use that specific path in the `dataset_path` in the model configuration."
   ]
  },
  {
   "cell_type": "code",
   "execution_count": 6,
   "metadata": {},
   "outputs": [
    {
     "data": {
      "text/plain": [
       "{'Dataset ID': 'imgdat_e90996f3-3b17-4a90-8ea6-2ed49a548917',\n",
       " 'dataset_status': {'command': 'Vision',\n",
       "  'status': 'IN_PROGRESS',\n",
       "  'dataset_id': 'imgdat_e90996f3-3b17-4a90-8ea6-2ed49a548917'}}"
      ]
     },
     "execution_count": 6,
     "metadata": {},
     "output_type": "execute_result"
    }
   ],
   "source": [
    "dataset.check_data(dataset_id)"
   ]
  },
  {
   "cell_type": "markdown",
   "metadata": {},
   "source": [
    "### Define the model training configuration"
   ]
  },
  {
   "cell_type": "code",
   "execution_count": 7,
   "metadata": {},
   "outputs": [],
   "source": [
    "# Define a Config\n",
    "\n",
    "config = {\n",
    "    \"model\": \"<name of the pretrained model you want to use>\",\n",
    "    # \"dataset\": \"<path-for-the-dataset>\"\n",
    "    \"n_classes\": \"<Number of classes\",\n",
    "    \"optimizer\" : \"<optimizer-for-training>\",\n",
    "    \"learning_rate\" : \"<learning rate used during training>\",\n",
    "    \"momentum\": \"<momentum used during training>\",\n",
    "    \"metrics\" : \"<metrics for training>\",\n",
    "    \"epochs\": \"<number of epochs you want to train for>\",\n",
    "    \"batch_size\": \"<int batch size for training>\",\n",
    "    \"layers\": [\n",
    "    # Stack your layers up in this list in the following format\n",
    "        #(layer_name: <name_of_the_layer, layer_type: <CONV2D | RELU | FC>, dim:(20,20,..)),\n",
    "        #(layer_name: <name_of_the_layer, layer_type: <CONV2D | RELU | FC>, dim:(20,20,..))\n",
    "    ]\n",
    "        \n",
    "\n",
    "}"
   ]
  },
  {
   "cell_type": "code",
   "execution_count": 8,
   "metadata": {},
   "outputs": [],
   "source": [
    "config = {\n",
    "        \n",
    "        \"model\": \"resnet50\",\n",
    "        \"optimizer\": \"SGD\",\n",
    "        \"n_classes\": 6,\n",
    "        \"learning_rate\": 0.001,\n",
    "        \"labels\":  {\"cardboard\": 0, \"glass\": 1,\"metal\": 2, \"paper\": 3,\"plastic\": 4, \"trash\": 5},\n",
    "        \"dataset_id\": dataset_id,\n",
    "        \"dataset_path\": \"garbage_classification/Garbage_classification\",\n",
    "        \"momentum\": 0.9,\n",
    "        \"metrics\": ['accuracy'],\n",
    "        \"loss\": \"sparse_categorical_entropy\",\n",
    "        \"epochs\": 10, \n",
    "        \"layers\": [('lin1',\"FC\",(2048,1080)), ('sig1',\"SIG\"),('lin2',\"FC\",(1080,6)),('relu1',\"RELU\")], \n",
    "        \"batch_size\": 16\n",
    "}"
   ]
  },
  {
   "cell_type": "markdown",
   "metadata": {},
   "source": [
    "# Create the Model"
   ]
  },
  {
   "cell_type": "code",
   "execution_count": 9,
   "metadata": {},
   "outputs": [],
   "source": [
    "model = Model(client=client,config=config)\n"
   ]
  },
  {
   "cell_type": "markdown",
   "metadata": {},
   "source": [
    "## Run the Model "
   ]
  },
  {
   "cell_type": "code",
   "execution_count": 10,
   "metadata": {},
   "outputs": [
    {
     "name": "stdout",
     "output_type": "stream",
     "text": [
      "{'Dataset ID': 'imgdat_e90996f3-3b17-4a90-8ea6-2ed49a548917', 'dataset_status': {'command': 'Vision', 'status': 'IN_PROGRESS', 'dataset_id': 'imgdat_e90996f3-3b17-4a90-8ea6-2ed49a548917'}}\n"
     ]
    }
   ],
   "source": [
    "model = model.train_model()\n",
    "model"
   ]
  },
  {
   "cell_type": "code",
   "execution_count": 11,
   "metadata": {},
   "outputs": [
    {
     "data": {
      "text/plain": [
       "{'message': \"Your dataset hasn't been created yet please try in some time.\"}"
      ]
     },
     "execution_count": 11,
     "metadata": {},
     "output_type": "execute_result"
    }
   ],
   "source": [
    "model"
   ]
  },
  {
   "cell_type": "code",
   "execution_count": 12,
   "metadata": {},
   "outputs": [
    {
     "ename": "KeyError",
     "evalue": "'train_id'",
     "output_type": "error",
     "traceback": [
      "\u001b[0;31m---------------------------------------------------------------------------\u001b[0m",
      "\u001b[0;31mKeyError\u001b[0m                                  Traceback (most recent call last)",
      "Cell \u001b[0;32mIn[12], line 3\u001b[0m\n\u001b[1;32m      1\u001b[0m \u001b[38;5;66;03m# Get your model id\u001b[39;00m\n\u001b[0;32m----> 3\u001b[0m model_id \u001b[38;5;241m=\u001b[39m \u001b[43mmodel\u001b[49m\u001b[43m[\u001b[49m\u001b[38;5;124;43m'\u001b[39;49m\u001b[38;5;124;43mtrain_id\u001b[39;49m\u001b[38;5;124;43m'\u001b[39;49m\u001b[43m]\u001b[49m\n\u001b[1;32m      4\u001b[0m model_id\n",
      "\u001b[0;31mKeyError\u001b[0m: 'train_id'"
     ]
    }
   ],
   "source": [
    "# Get your model id\n",
    "\n",
    "model_id = model['train_id']\n",
    "model_id"
   ]
  },
  {
   "cell_type": "markdown",
   "metadata": {},
   "source": [
    "## Let's check the status of your running Job"
   ]
  },
  {
   "cell_type": "code",
   "execution_count": null,
   "metadata": {},
   "outputs": [],
   "source": [
    "from rungpu_vision import VisionStatus\n",
    "\n",
    "status = VisionStatus(client, model_id)\n"
   ]
  },
  {
   "cell_type": "markdown",
   "metadata": {},
   "source": [
    "##### Call the `get_status()` method on the status object to get the current training status of the job"
   ]
  },
  {
   "cell_type": "code",
   "execution_count": null,
   "metadata": {},
   "outputs": [
    {
     "data": {
      "text/plain": [
       "{'Train_Id': 'resnet50-a7465fe5-9d14-4af4-aff9-3be5f1a8b96f',\n",
       " 'time_elapsed': 'None',\n",
       " 'train_status': {'command': 'Vision',\n",
       "  'status': 'IN QUEUE',\n",
       "  'phase': 'TRAINING',\n",
       "  'model_id': 'resnet50-a7465fe5-9d14-4af4-aff9-3be5f1a8b96f',\n",
       "  'dataset_created': 'NO',\n",
       "  'run_history': 'null',\n",
       "  'dataset_id': 'imgdat_7882ad02-d373-4e2e-a4cd-937fe34b1c38',\n",
       "  'run_start': None,\n",
       "  'run_end': None,\n",
       "  'error': 'Job Still in Queue',\n",
       "  'process_id': 'No Process Assigned',\n",
       "  'config': {'client_id': 'n6p7iWSrknJqkLIwX0PGi',\n",
       "   'client_secret': '3b32447eab2155d1905c44dcf0506e5ceddf3827b',\n",
       "   'model': 'resnet50',\n",
       "   'dataset_id': 'imgdat_7882ad02-d373-4e2e-a4cd-937fe34b1c38',\n",
       "   'dataset_path': 'garbage_classification/Garbage_classification',\n",
       "   'n_classes': 6,\n",
       "   'optimizer': 'SGD',\n",
       "   'epochs': 10,\n",
       "   'batch_size': 16,\n",
       "   'learning_rate': 0.001,\n",
       "   'momentum': 0.9,\n",
       "   'loss': 'sparse_categorical_entropy',\n",
       "   'metrics': ['accuracy'],\n",
       "   'layers': [['lin1', 'FC', [2048, 1080]],\n",
       "    ['sig1', 'SIG'],\n",
       "    ['lin2', 'FC', [1080, 6]],\n",
       "    ['relu1', 'RELU']],\n",
       "   'labels': {'cardboard': 0,\n",
       "    'glass': 1,\n",
       "    'metal': 2,\n",
       "    'paper': 3,\n",
       "    'plastic': 4,\n",
       "    'trash': 5}}}}"
      ]
     },
     "execution_count": 79,
     "metadata": {},
     "output_type": "execute_result"
    }
   ],
   "source": [
    "status.get_status()\n"
   ]
  },
  {
   "cell_type": "code",
   "execution_count": null,
   "metadata": {},
   "outputs": [],
   "source": []
  },
  {
   "cell_type": "code",
   "execution_count": null,
   "metadata": {},
   "outputs": [],
   "source": []
  }
 ],
 "metadata": {
  "kernelspec": {
   "display_name": ".venv",
   "language": "python",
   "name": "python3"
  },
  "language_info": {
   "codemirror_mode": {
    "name": "ipython",
    "version": 3
   },
   "file_extension": ".py",
   "mimetype": "text/x-python",
   "name": "python",
   "nbconvert_exporter": "python",
   "pygments_lexer": "ipython3",
   "version": "3.10.14"
  }
 },
 "nbformat": 4,
 "nbformat_minor": 2
}
