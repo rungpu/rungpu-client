{
 "cells": [
  {
   "cell_type": "markdown",
   "metadata": {},
   "source": [
    "# Welcome to RunGPU Vision\n",
    "\n",
    "This is a notebook to exclusively demonstrate the image model training capabilities that the Rungpu library offers. It's simple to use, has a plug-and-play interface. \n",
    "\n",
    "Image models can be used for several practices,but in this case we would be using Image models for training them to classify images \n"
   ]
  },
  {
   "cell_type": "code",
   "execution_count": 46,
   "metadata": {},
   "outputs": [],
   "source": [
    "from rungpu_vision import Model, Client, VisionDataset\n",
    "from configparser import ConfigParser"
   ]
  },
  {
   "cell_type": "markdown",
   "metadata": {},
   "source": [
    "### Enter your Rungpu Client_id and Client_Secret"
   ]
  },
  {
   "cell_type": "code",
   "execution_count": 47,
   "metadata": {},
   "outputs": [],
   "source": [
    "client_id = \"<Your Client ID Here>\"\n",
    "client_secret = \"<Your Client Secret Here>\""
   ]
  },
  {
   "cell_type": "code",
   "execution_count": 48,
   "metadata": {},
   "outputs": [],
   "source": [
    "config = ConfigParser()\n",
    "config.read('system.ini')\n",
    "\n",
    "client_id = config.get('rungpu_client','client_id')\n",
    "client_secret = config.get('rungpu_client','client_secret')\n"
   ]
  },
  {
   "cell_type": "markdown",
   "metadata": {},
   "source": [
    "## Create the Client Object for Authentication"
   ]
  },
  {
   "cell_type": "code",
   "execution_count": 49,
   "metadata": {},
   "outputs": [],
   "source": [
    "client = Client(client_id, client_secret)"
   ]
  },
  {
   "cell_type": "code",
   "execution_count": 50,
   "metadata": {},
   "outputs": [],
   "source": [
    "# Define a Dataset\n",
    "dataset_config =  {\"src_type\": \"kaggle\", \"src_id\": \"asdasdasasdas/garbage-classification\"}\n",
    "dataset = VisionDataset(client,dataset_config)\n",
    "\n"
   ]
  },
  {
   "cell_type": "markdown",
   "metadata": {},
   "source": [
    "#### Create your Image dataset using the `create_dataset()` function"
   ]
  },
  {
   "cell_type": "code",
   "execution_count": 51,
   "metadata": {},
   "outputs": [
    {
     "name": "stdout",
     "output_type": "stream",
     "text": [
      "imgdat_ed1d3557-68c9-4166-84ba-317172e69cc7\n"
     ]
    }
   ],
   "source": [
    "imgdat = dataset.create_dataset()\n",
    "dataset_id = imgdat['dataset_id']\n",
    "print(dataset_id)"
   ]
  },
  {
   "cell_type": "markdown",
   "metadata": {},
   "source": [
    "#### Image Dataset Status\n",
    "\n",
    "Since these are image model, its a safe bet to keep checking the status of the image dataset ingestion into the RunGPU Platform since some image datasets might take time to download. \n",
    "\n",
    "Also, The `check_data` gives you a `dir_map` feature, which let's you narrow out which specific directory has the right image-label mappings you would want to use for your classification model, and you can use that specific path in the `dataset_path` in the model configuration."
   ]
  },
  {
   "cell_type": "code",
   "execution_count": 60,
   "metadata": {},
   "outputs": [
    {
     "data": {
      "text/plain": [
       "{'Dataset ID': 'imgdat_ed1d3557-68c9-4166-84ba-317172e69cc7',\n",
       " 'dataset_status': {'command': 'Vision',\n",
       "  'status': 'COMPLETED',\n",
       "  'dataset_id': 'imgdat_ed1d3557-68c9-4166-84ba-317172e69cc7',\n",
       "  'dir_map': {'Files': {'garbage_classification': 5,\n",
       "    'Garbage_classification': 5},\n",
       "   'garbage_classification': {'Garbage_classification': 0},\n",
       "   'garbage_classification/Garbage_classification': {'glass': 0,\n",
       "    'paper': 0,\n",
       "    'trash': 0,\n",
       "    'metal': 0,\n",
       "    'cardboard': 0,\n",
       "    'plastic': 0},\n",
       "   'garbage_classification/Garbage_classification/glass': {},\n",
       "   'garbage_classification/Garbage_classification/paper': {},\n",
       "   'garbage_classification/Garbage_classification/trash': {},\n",
       "   'garbage_classification/Garbage_classification/metal': {},\n",
       "   'garbage_classification/Garbage_classification/cardboard': {},\n",
       "   'garbage_classification/Garbage_classification/plastic': {},\n",
       "   'Garbage_classification': {'Garbage_classification': 0},\n",
       "   'Garbage_classification/Garbage_classification': {'glass': 0,\n",
       "    'paper': 0,\n",
       "    'trash': 0,\n",
       "    'metal': 0,\n",
       "    'cardboard': 0,\n",
       "    'plastic': 0},\n",
       "   'Garbage_classification/Garbage_classification/glass': {},\n",
       "   'Garbage_classification/Garbage_classification/paper': {},\n",
       "   'Garbage_classification/Garbage_classification/trash': {},\n",
       "   'Garbage_classification/Garbage_classification/metal': {},\n",
       "   'Garbage_classification/Garbage_classification/cardboard': {},\n",
       "   'Garbage_classification/Garbage_classification/plastic': {}},\n",
       "  'error': 'No Errors',\n",
       "  'run_end': '2024-08-22 15:33:42.705669'}}"
      ]
     },
     "execution_count": 60,
     "metadata": {},
     "output_type": "execute_result"
    }
   ],
   "source": [
    "dataset.check_data(dataset_id)"
   ]
  },
  {
   "cell_type": "markdown",
   "metadata": {},
   "source": [
    "### Define the model training configuration"
   ]
  },
  {
   "cell_type": "code",
   "execution_count": 61,
   "metadata": {},
   "outputs": [],
   "source": [
    "# Define a Config\n",
    "\n",
    "config = {\n",
    "    \"model\": \"<name of the pretrained model you want to use>\",\n",
    "    # \"dataset\": \"<path-for-the-dataset>\"\n",
    "    \"n_classes\": \"<Number of classes\",\n",
    "    \"optimizer\" : \"<optimizer-for-training>\",\n",
    "    \"learning_rate\" : \"<learning rate used during training>\",\n",
    "    \"momentum\": \"<momentum used during training>\",\n",
    "    \"metrics\" : \"<metrics for training>\",\n",
    "    \"epochs\": \"<number of epochs you want to train for>\",\n",
    "    \"batch_size\": \"<int batch size for training>\",\n",
    "    \"layers\": [\n",
    "    # Stack your layers up in this list in the following format\n",
    "        #(layer_name: <name_of_the_layer, layer_type: <CONV2D | RELU | FC>, dim:(20,20,..)),\n",
    "        #(layer_name: <name_of_the_layer, layer_type: <CONV2D | RELU | FC>, dim:(20,20,..))\n",
    "    ]\n",
    "        \n",
    "\n",
    "}"
   ]
  },
  {
   "cell_type": "code",
   "execution_count": 62,
   "metadata": {},
   "outputs": [],
   "source": [
    "config = {\n",
    "        \n",
    "        \"model\": \"resnet50\",\n",
    "        \"optimizer\": \"SGD\",\n",
    "        \"n_classes\": 6,\n",
    "        \"learning_rate\": 0.001,\n",
    "        \"labels\":  {\"cardboard\": 0, \"glass\": 1,\"metal\": 2, \"paper\": 3,\"plastic\": 4, \"trash\": 5},\n",
    "        \"dataset_id\": dataset_id,\n",
    "        \"dataset_path\": \"garbage_classification/Garbage_classification\",\n",
    "        \"momentum\": 0.9,\n",
    "        \"metrics\": ['accuracy'],\n",
    "        \"loss\": \"sparse_categorical_entropy\",\n",
    "        \"epochs\": 10, \n",
    "        \"layers\": [('lin1',\"FC\",(2048,1080)), ('sig1',\"SIG\"),('lin2',\"FC\",(1080,6)),('relu1',\"RELU\")], \n",
    "        \"batch_size\": 16\n",
    "}"
   ]
  },
  {
   "cell_type": "markdown",
   "metadata": {},
   "source": [
    "# Create the Model"
   ]
  },
  {
   "cell_type": "code",
   "execution_count": 63,
   "metadata": {},
   "outputs": [],
   "source": [
    "model = Model(client=client,config=config)\n"
   ]
  },
  {
   "cell_type": "markdown",
   "metadata": {},
   "source": [
    "## Run the Model "
   ]
  },
  {
   "cell_type": "code",
   "execution_count": 64,
   "metadata": {},
   "outputs": [],
   "source": [
    "model = model.train_model()"
   ]
  },
  {
   "cell_type": "code",
   "execution_count": 65,
   "metadata": {},
   "outputs": [
    {
     "data": {
      "text/plain": [
       "{'command': 'Vision',\n",
       " 'status': 'IN QUEUE',\n",
       " 'phase': 'TRAINING',\n",
       " 'train_id': 'resnet50-80ea3b74-cce4-4350-bc85-6193d921b29d',\n",
       " 'run_history': 'null',\n",
       " 'dataset_id': 'imgdat_ed1d3557-68c9-4166-84ba-317172e69cc7',\n",
       " 'run_start': None,\n",
       " 'run_end': None,\n",
       " 'error': 'Job Still in Queue',\n",
       " 'config': {'client_id': 'n6p7iWSrknJqkLIwX0PGi',\n",
       "  'client_secret': '3b32447eab2155d1905c44dcf0506e5ceddf3827b',\n",
       "  'model': 'resnet50',\n",
       "  'dataset_id': 'imgdat_ed1d3557-68c9-4166-84ba-317172e69cc7',\n",
       "  'dataset_path': 'garbage_classification/Garbage_classification',\n",
       "  'n_classes': 6,\n",
       "  'optimizer': 'SGD',\n",
       "  'epochs': 10,\n",
       "  'batch_size': 16,\n",
       "  'learning_rate': 0.001,\n",
       "  'momentum': 0.9,\n",
       "  'loss': 'sparse_categorical_entropy',\n",
       "  'metrics': ['accuracy'],\n",
       "  'layers': [['lin1', 'FC', [2048, 1080]],\n",
       "   ['sig1', 'SIG'],\n",
       "   ['lin2', 'FC', [1080, 6]],\n",
       "   ['relu1', 'RELU']],\n",
       "  'labels': {'cardboard': 0,\n",
       "   'glass': 1,\n",
       "   'metal': 2,\n",
       "   'paper': 3,\n",
       "   'plastic': 4,\n",
       "   'trash': 5}}}"
      ]
     },
     "execution_count": 65,
     "metadata": {},
     "output_type": "execute_result"
    }
   ],
   "source": [
    "model"
   ]
  },
  {
   "cell_type": "code",
   "execution_count": 66,
   "metadata": {},
   "outputs": [
    {
     "data": {
      "text/plain": [
       "'resnet50-80ea3b74-cce4-4350-bc85-6193d921b29d'"
      ]
     },
     "execution_count": 66,
     "metadata": {},
     "output_type": "execute_result"
    }
   ],
   "source": [
    "# Get your model id\n",
    "\n",
    "model_id = model['train_id']\n",
    "model_id"
   ]
  },
  {
   "cell_type": "markdown",
   "metadata": {},
   "source": [
    "## Let's check the status of your running Job"
   ]
  },
  {
   "cell_type": "code",
   "execution_count": 67,
   "metadata": {},
   "outputs": [],
   "source": [
    "from rungpu_vision import VisionStatus\n",
    "\n",
    "status = VisionStatus(client, model_id)\n"
   ]
  },
  {
   "cell_type": "markdown",
   "metadata": {},
   "source": [
    "##### Call the `get_status()` method on the status object to get the current training status of the job"
   ]
  },
  {
   "cell_type": "code",
   "execution_count": 75,
   "metadata": {},
   "outputs": [
    {
     "data": {
      "text/plain": [
       "{'Train_Id': 'resnet50-80ea3b74-cce4-4350-bc85-6193d921b29d',\n",
       " 'time_elapsed': '2.85116975',\n",
       " 'train_status': {'command': 'Vision',\n",
       "  'status': 'COMPLETED',\n",
       "  'phase': 'MODEL_TRAINED',\n",
       "  'model_id': 'resnet50-80ea3b74-cce4-4350-bc85-6193d921b29d',\n",
       "  'dataset_created': 'NO',\n",
       "  'run_history': 'null',\n",
       "  'dataset_id': 'imgdat_ed1d3557-68c9-4166-84ba-317172e69cc7',\n",
       "  'run_start': '2024-08-22 15:38:04.124711',\n",
       "  'run_end': '2024-08-22 15:40:55.194896',\n",
       "  'error': 'No Errors',\n",
       "  'process_id': '2653276',\n",
       "  'config': {'client_id': 'n6p7iWSrknJqkLIwX0PGi',\n",
       "   'client_secret': '3b32447eab2155d1905c44dcf0506e5ceddf3827b',\n",
       "   'model': 'resnet50',\n",
       "   'dataset_id': 'imgdat_ed1d3557-68c9-4166-84ba-317172e69cc7',\n",
       "   'dataset_path': 'garbage_classification/Garbage_classification',\n",
       "   'n_classes': 6,\n",
       "   'optimizer': 'SGD',\n",
       "   'epochs': 10,\n",
       "   'batch_size': 16,\n",
       "   'learning_rate': 0.001,\n",
       "   'momentum': 0.9,\n",
       "   'loss': 'sparse_categorical_entropy',\n",
       "   'metrics': ['accuracy'],\n",
       "   'layers': [['lin1', 'FC', [2048, 1080]],\n",
       "    ['sig1', 'SIG'],\n",
       "    ['lin2', 'FC', [1080, 6]],\n",
       "    ['relu1', 'RELU']],\n",
       "   'labels': {'cardboard': 0,\n",
       "    'glass': 1,\n",
       "    'metal': 2,\n",
       "    'paper': 3,\n",
       "    'plastic': 4,\n",
       "    'trash': 5}}}}"
      ]
     },
     "execution_count": 75,
     "metadata": {},
     "output_type": "execute_result"
    }
   ],
   "source": [
    "status.get_status()\n"
   ]
  },
  {
   "cell_type": "code",
   "execution_count": null,
   "metadata": {},
   "outputs": [],
   "source": []
  },
  {
   "cell_type": "code",
   "execution_count": null,
   "metadata": {},
   "outputs": [],
   "source": []
  }
 ],
 "metadata": {
  "kernelspec": {
   "display_name": ".venv",
   "language": "python",
   "name": "python3"
  },
  "language_info": {
   "codemirror_mode": {
    "name": "ipython",
    "version": 3
   },
   "file_extension": ".py",
   "mimetype": "text/x-python",
   "name": "python",
   "nbconvert_exporter": "python",
   "pygments_lexer": "ipython3",
   "version": "3.10.14"
  }
 },
 "nbformat": 4,
 "nbformat_minor": 2
}
